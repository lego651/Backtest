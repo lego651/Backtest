{
 "cells": [
  {
   "cell_type": "code",
   "execution_count": 1,
   "metadata": {},
   "outputs": [],
   "source": [
    "# Import libraries\n",
    "import pandas as pd\n",
    "import pandas_ta as ta\n",
    "import numpy as np\n",
    "from IPython.display import clear_output\n",
    "import matplotlib.pyplot as plt\n",
    "import plotly.graph_objects as go\n",
    "import seaborn as sns"
   ]
  },
  {
   "cell_type": "code",
   "execution_count": 2,
   "metadata": {},
   "outputs": [],
   "source": [
    "# Vars\n",
    "timeframe = \"H1\"\n",
    "symbols = [\"GBP_JPY\"]\n",
    "systems = [\"Strat\"]\n",
    "starting_balance = 100\n",
    "risk_per_trade = 0.02 # Risking 2% per trade\n",
    "market_open_time = \"09:00\"\n",
    "opening_range_hours = 5\n",
    "latest_entry_time = \"22:00\"\n",
    "trade_direction = \"long\"\n",
    "timezone = \"Europe/London\""
   ]
  },
  {
   "cell_type": "code",
   "execution_count": null,
   "metadata": {},
   "outputs": [],
   "source": [
    "# Load CSV File\n",
    "def get_price_data(symbol):\n",
    "    df = pd.read_csv(f\"../data/{symbol}_{timeframe}.csv\", parse_dates=['Datetime'], index_col='Datetime')\n",
    "    df.index = pd.to_datetime(df.index, utc=True).tz_convert(timezone)  # Keeps local timezone without converting to UTC\n",
    "    return df"
   ]
  }
 ],
 "metadata": {
  "kernelspec": {
   "display_name": ".venv",
   "language": "python",
   "name": "python3"
  },
  "language_info": {
   "codemirror_mode": {
    "name": "ipython",
    "version": 3
   },
   "file_extension": ".py",
   "mimetype": "text/x-python",
   "name": "python",
   "nbconvert_exporter": "python",
   "pygments_lexer": "ipython3",
   "version": "3.8.9"
  }
 },
 "nbformat": 4,
 "nbformat_minor": 2
}
